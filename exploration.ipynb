{
 "cells": [
  {
   "cell_type": "code",
   "execution_count": null,
   "metadata": {},
   "outputs": [],
   "source": [
    "import pandas as pd\n",
    "import numpy as np\n",
    "import matplotlib.pyplot as plt\n",
    "import seaborn as sns\n",
    "import requests"
   ]
  },
  {
   "cell_type": "code",
   "execution_count": null,
   "metadata": {},
   "outputs": [],
   "source": [
    "#import da Google Drive con link elencati in esportazioni_aida.txt\n",
    "file_id = \"1ABCDEFGHIJKLXYZ\" #Collegamento a file txt\n",
    "url = f\"https://drive.google.com/uc?export=download&id={file_id}\"\n",
    "\n",
    "response = requests.get(url)\n",
    "with open(\"file.csv\", \"wb\") as f:\n",
    "    f.write(response.content)\n",
    "\n",
    "df = pd.read_csv(\"file.csv\")\n",
    "print(df.head())\n"
   ]
  }
 ],
 "metadata": {
  "kernelspec": {
   "display_name": ".venv",
   "language": "python",
   "name": "python3"
  },
  "language_info": {
   "codemirror_mode": {
    "name": "ipython",
    "version": 3
   },
   "file_extension": ".py",
   "mimetype": "text/x-python",
   "name": "python",
   "nbconvert_exporter": "python",
   "pygments_lexer": "ipython3",
   "version": "3.12.3"
  }
 },
 "nbformat": 4,
 "nbformat_minor": 2
}
